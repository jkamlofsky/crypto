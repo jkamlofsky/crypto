{
 "cells": [
  {
   "cell_type": "markdown",
   "id": "709e9daf",
   "metadata": {},
   "source": [
    "# Hashing for integrity"
   ]
  },
  {
   "cell_type": "markdown",
   "id": "9cb653a1",
   "metadata": {},
   "source": [
    "## 1. Introduction"
   ]
  },
  {
   "cell_type": "markdown",
   "id": "a2a3a237",
   "metadata": {},
   "source": [
    "### 1.1. Abstract"
   ]
  },
  {
   "cell_type": "markdown",
   "id": "6751c5b2",
   "metadata": {},
   "source": [
    "A hash function maps bit-strings of arbitrary finite length to strings of fixed length. Calculation have to be easy independently of the size of the input. The hash-value serves as a compact representative image of an input (called message digest). Hash functions are used for data integrity in conjunction with digital signature sch-\n",
    "emes (Van Oorschot, Paul C., Alfred J. Menezes, and Scott A. Vanstone. Handbook of applied cryptography. CRC press, 1996). <br>\n",
    "This notebook will introduce you to the basic ideas of the practical use of some popular hash algorithms."
   ]
  },
  {
   "cell_type": "markdown",
   "id": "ff55bda9",
   "metadata": {},
   "source": [
    "<img src=\"files/hash_wikipedia.png\" alt=\"Image obtained from Wikipedia\">"
   ]
  },
  {
   "cell_type": "markdown",
   "id": "f6727eb3",
   "metadata": {},
   "source": [
    "A small change in the input (in the word \"over\") drastically changes the output (digest).<br>"
   ]
  },
  {
   "cell_type": "markdown",
   "id": "78b38470",
   "metadata": {},
   "source": [
    "### 1.2. Algorithms used"
   ]
  },
  {
   "cell_type": "markdown",
   "id": "11ae2f6b",
   "metadata": {},
   "source": [
    "<b>MD5: </b>It is a cryptographic hash function that produce a 128-bit hash value. It was broken but still widely used.<br>\n",
    "<b>SHA-2 (Secure Hash Algorithm 2): </b> Is a set of cryptographic hash functions designed by the NSA. Consists of six hash functions with digests (hash values) that are 224, 256, 384 or 512 bits: SHA-224, SHA-256, SHA-384, SHA-512, SHA-512/224, SHA-512/256. <br>\n",
    "In this notebook, we use: MD5, SHA-256 and SHA-384"
   ]
  },
  {
   "cell_type": "markdown",
   "id": "f19fe6e6",
   "metadata": {},
   "source": [
    "<i>Source and Image: Wikipedia. Link: </i> https://en.wikipedia.org/wiki/Cryptographic_hash_function#/media/File:Cryptographic_Hash_Function.svg"
   ]
  },
  {
   "cell_type": "markdown",
   "id": "9f6422c7",
   "metadata": {},
   "source": [
    "### 1.3. In this notebook"
   ]
  },
  {
   "cell_type": "markdown",
   "id": "d959c91e",
   "metadata": {},
   "source": [
    "First a basic example of hashing a string. Continues with hashing of a file. It finish with a comparison of performance of hashing files with different size using mentioned algorithms."
   ]
  },
  {
   "cell_type": "markdown",
   "id": "e0373001",
   "metadata": {},
   "source": [
    "## 2. Hashing"
   ]
  },
  {
   "cell_type": "markdown",
   "id": "5a84b625",
   "metadata": {},
   "source": [
    "### 2.1. A simple example of hashing a String"
   ]
  },
  {
   "cell_type": "code",
   "execution_count": 1,
   "id": "c6cabb0d",
   "metadata": {},
   "outputs": [],
   "source": [
    "#### Libraries"
   ]
  },
  {
   "cell_type": "code",
   "execution_count": 3,
   "id": "53b66e99",
   "metadata": {},
   "outputs": [],
   "source": [
    "import os\n",
    "from os import system\n",
    "import pandas as pd\n",
    "import datetime as dt\n",
    "import hashlib\n",
    "from simple_file_checksum import get_checksum"
   ]
  },
  {
   "cell_type": "code",
   "execution_count": 4,
   "id": "15336ae4",
   "metadata": {},
   "outputs": [],
   "source": [
    "#### Hashing a String with the different algorithms"
   ]
  },
  {
   "cell_type": "code",
   "execution_count": 5,
   "id": "5c881611",
   "metadata": {},
   "outputs": [
    {
     "name": "stdout",
     "output_type": "stream",
     "text": [
      "The Original String:  Hello Hash!\n",
      "MD5   :  c10e8df2e378a1584359b0e546cf0149\n",
      "SHA256:  3cbeb9b59f53d9b041a94ccd1c333eb7a84196d420f84bce997ef2b895d0db4a\n",
      "SHA384:  7eb1ad2ccd09c59fc38b87de97f6aee80848238f89b03e63fc051c8f9fe330c8f5f193d6256b03f10f58f9b2c511fdfa\n"
     ]
    }
   ],
   "source": [
    "theOriginalString='Hello Hash!'\n",
    "print('The Original String: ',theOriginalString)\n",
    "hashMD5Original=hashlib.md5(theOriginalString.encode()).hexdigest()\n",
    "print('MD5   : ',hashMD5Original)\n",
    "hashSHA256Original=hashlib.sha256(theOriginalString.encode()).hexdigest()\n",
    "print('SHA256: ',hashSHA256Original)\n",
    "hashSHA384Original=hashlib.sha384(theOriginalString.encode()).hexdigest()\n",
    "print('SHA384: ',hashSHA384Original)"
   ]
  },
  {
   "cell_type": "markdown",
   "id": "288a3bf2",
   "metadata": {},
   "source": [
    "#### Hashing a String modified with the different algorithms"
   ]
  },
  {
   "cell_type": "code",
   "execution_count": 6,
   "id": "d4a45010",
   "metadata": {},
   "outputs": [
    {
     "name": "stdout",
     "output_type": "stream",
     "text": [
      "The Modified String:  Hello Hash!!\n",
      "MD5 Original  :  c10e8df2e378a1584359b0e546cf0149\n",
      "MD5 Modified  :  cb11fd5502c52e0924433bac1bd1bdd7\n",
      "SHA256 Original  :  3cbeb9b59f53d9b041a94ccd1c333eb7a84196d420f84bce997ef2b895d0db4a\n",
      "SHA256 Modified  :  30c5abe914a733237b3f2be749bfa68aa47396431bf7b4717f55702ebcfa3261\n",
      "SHA384 Original  :  7eb1ad2ccd09c59fc38b87de97f6aee80848238f89b03e63fc051c8f9fe330c8f5f193d6256b03f10f58f9b2c511fdfa\n",
      "SHA384 Modified  :  f3d853df4a15ee095dab817e051d8689152b63b46296faaf696dd5d0513ec28550634e4ab4f269916a679eeb50f92f50\n"
     ]
    }
   ],
   "source": [
    "theModifiedString='Hello Hash!!'\n",
    "print('The Modified String: ',theModifiedString)\n",
    "hashMD5Modified=hashlib.md5(theModifiedString.encode()).hexdigest()\n",
    "print('MD5 Original  : ',hashMD5Original)\n",
    "print('MD5 Modified  : ',hashMD5Modified)\n",
    "hashSHA256Modified=hashlib.sha256(theModifiedString.encode()).hexdigest()\n",
    "print('SHA256 Original  : ',hashSHA256Original)\n",
    "print('SHA256 Modified  : ',hashSHA256Modified)\n",
    "hashSHA384Modified=hashlib.sha384(theModifiedString.encode()).hexdigest()\n",
    "print('SHA384 Original  : ',hashSHA384Original)\n",
    "print('SHA384 Modified  : ',hashSHA384Modified)"
   ]
  },
  {
   "cell_type": "markdown",
   "id": "3051d12c",
   "metadata": {},
   "source": [
    "### 2.2. A simple example of hashing a file"
   ]
  },
  {
   "cell_type": "code",
   "execution_count": 7,
   "id": "92238724",
   "metadata": {},
   "outputs": [
    {
     "name": "stdout",
     "output_type": "stream",
     "text": [
      "Hash of original file:  b026324c6904b2a9cb4b88d6d61c81d1\n",
      "Hash of file modified:  26ab0db90d72e28ad0ba1e22ee510510\n"
     ]
    }
   ],
   "source": [
    "originalFile='samples/test1B.txt' # Original: A file just containing a \"1\"\n",
    "notOriginalFile='samples/test1BModified.txt' # Modified: original file changed \"1\" by \"2\"\n",
    "originalHashed=get_checksum(originalFile, algorithm='MD5')\n",
    "print('Hash of original file: ',originalHashed)\n",
    "notOriginalHashed=get_checksum(notOriginalFile, algorithm='MD5')\n",
    "print('Hash of file modified: ',notOriginalHashed)"
   ]
  },
  {
   "cell_type": "markdown",
   "id": "03713c8a",
   "metadata": {},
   "source": [
    "### 2.3. Comparison of performance of different algorithms"
   ]
  },
  {
   "cell_type": "code",
   "execution_count": 9,
   "id": "393820fe",
   "metadata": {},
   "outputs": [
    {
     "name": "stdout",
     "output_type": "stream",
     "text": [
      "   size(bytes)   timeMD5 timeSHA256 timeSHA384\n",
      "0            2  0.020073   0.019370   0.018694\n",
      "1            2  0.018652   0.020676   0.018382\n",
      "2         1002  0.017787   0.019402   0.020489\n",
      "3      1032425  0.024263   0.025747   0.024891\n"
     ]
    }
   ],
   "source": [
    "# Init\n",
    "size=[]\n",
    "timeMD5=[]\n",
    "timeSHA256=[]\n",
    "timeSHA384=[]\n",
    "df=pd.DataFrame()\n",
    "algorithms=['MD5','sha256','sha384']\n",
    "folder=\"samples\"\n",
    "files=os.listdir(folder)\n",
    "files.sort()\n",
    "# Main\n",
    "# 1. Size:\n",
    "for i in range(len(files)):\n",
    "    archi=str(folder)+\"/\"+str(files[i])\n",
    "    size.append(os.stat(archi).st_size)\n",
    "# 2. Times of obtaining hash:\n",
    "# Function\n",
    "def hashing(archi,algorithm):\n",
    "    init=dt.datetime.now()\n",
    "    hashed=get_checksum(archi, algorithm)\n",
    "    end=dt.datetime.now()\n",
    "    delta=end-init\n",
    "    return delta\n",
    "# Main Process\n",
    "for i in range(len(files)):\n",
    "    archi=str(folder)+\"/\"+str(files[i])\n",
    "    timeMD5.append(str(hashing(archi,'MD5'))[6:])\n",
    "    timeSHA256.append(str(hashing(archi,'sha256'))[6:])\n",
    "    timeSHA384.append(str(hashing(archi,'sha384'))[6:])\n",
    "df['size(bytes)']=size\n",
    "df['timeMD5']=timeMD5\n",
    "df['timeSHA256']=timeSHA256\n",
    "df['timeSHA384']=timeSHA384\n",
    "print(df)\n",
    "# For downloading df as a csv file uncoment next line\n",
    "#df.to_csv(\"reportHash.csv\", index = False)"
   ]
  },
  {
   "cell_type": "code",
   "execution_count": null,
   "id": "27f91a53",
   "metadata": {},
   "outputs": [],
   "source": []
  }
 ],
 "metadata": {
  "kernelspec": {
   "display_name": "Python 3 (ipykernel)",
   "language": "python",
   "name": "python3"
  },
  "language_info": {
   "codemirror_mode": {
    "name": "ipython",
    "version": 3
   },
   "file_extension": ".py",
   "mimetype": "text/x-python",
   "name": "python",
   "nbconvert_exporter": "python",
   "pygments_lexer": "ipython3",
   "version": "3.9.7"
  }
 },
 "nbformat": 4,
 "nbformat_minor": 5
}
