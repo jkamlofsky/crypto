{
 "cells": [
  {
   "cell_type": "markdown",
   "id": "0d3b4c0c",
   "metadata": {},
   "source": [
    "# Passwords encryption: The use of Bcrypt"
   ]
  },
  {
   "cell_type": "markdown",
   "id": "18acf5c8",
   "metadata": {},
   "source": [
    "## 1. Introduction"
   ]
  },
  {
   "cell_type": "markdown",
   "id": "44b2db72",
   "metadata": {},
   "source": [
    "Databases are present in all servers, and them, in web based applications. Major DB have a lot of vulnerabilities, which are inherited to web applications: a simple dump of a user table implies the loss of the authentication system. "
   ]
  },
  {
   "cell_type": "markdown",
   "id": "b8f1a445",
   "metadata": {},
   "source": [
    "<img src=\"files/basico01.png\" alt=\"Typical storing of passwords in DB\">"
   ]
  },
  {
   "cell_type": "markdown",
   "id": "6f8ca4dd",
   "metadata": {},
   "source": [
    "### 1.1. Password Encryption"
   ]
  },
  {
   "cell_type": "markdown",
   "id": "20c04ed2",
   "metadata": {},
   "source": [
    "A common approach is to \"encrypt passwords\". This term is commonly used to a process that instead have to be called \"hashing passwords\". The idea consists in applying a hash function after users type their passwords and store in DB just the hash of the real password."
   ]
  },
  {
   "cell_type": "markdown",
   "id": "bb098303",
   "metadata": {},
   "source": [
    "<img src=\"files/basico02.png\" alt=\"hashing passwords\">"
   ]
  },
  {
   "cell_type": "markdown",
   "id": "107671f7",
   "metadata": {},
   "source": [
    "Thus, when user log into the system, he/she type user and password (example: mary-01 and pass1234) and system check for user and the hash of the password. You can see that no real password is stored in the DB becoming a most secure system."
   ]
  },
  {
   "cell_type": "markdown",
   "id": "f184674b",
   "metadata": {},
   "source": [
    "### 1.2. Weaknesses of this approach "
   ]
  },
  {
   "cell_type": "markdown",
   "id": "28374e30",
   "metadata": {},
   "source": [
    "A simple approach to getting the password from its hash is to look up the password on various sites dedicated to cracking hashes.<br>\n",
    "Using hash, maybe some users that won't make efforts to remember a password may think that a weak (and easy to remember) password like \"user1234\" can be masked. But that's a mistake: another approach is to implememmt brute-force attacks to commonly used passwords with various hashing algorithms."
   ]
  },
  {
   "cell_type": "markdown",
   "id": "5931316a",
   "metadata": {},
   "source": [
    "### 1.3. Recomendation propposed"
   ]
  },
  {
   "cell_type": "markdown",
   "id": "3450aafb",
   "metadata": {},
   "source": [
    "In the last years, the OWASP (Open Web Applications Security Project) use to recommended the use of Bcrypt as the first choice: the use of \"salt\" and/or \"pepper\" in the hashes. In last months they put in first place the concept of \"work-factor\". But in some cases its implemetation is not possible. \n",
    "For more info visit the OWASP site: https://cheatsheetseries.owasp.org/cheatsheets/Password_Storage_Cheat_Sheet.html<br>\n",
    "This notebook explains the use of Bcrypt to hash a password with a salt."
   ]
  },
  {
   "cell_type": "markdown",
   "id": "dd9b807f",
   "metadata": {},
   "source": [
    "## 2. The use of Bcrypt"
   ]
  },
  {
   "cell_type": "markdown",
   "id": "a5221215",
   "metadata": {},
   "source": [
    "Bcrypt combine a hash algorithm plus a salt."
   ]
  },
  {
   "cell_type": "markdown",
   "id": "653b465a",
   "metadata": {},
   "source": [
    "### 2.1. Libraries"
   ]
  },
  {
   "cell_type": "markdown",
   "id": "f3373e42",
   "metadata": {},
   "source": [
    "These libraries have to be installed in python before lauching this notebook: hashlib and bcrypt. In both cases the installation is easy an direct using \"pip\" comand."
   ]
  },
  {
   "cell_type": "code",
   "execution_count": 1,
   "id": "32821e37",
   "metadata": {},
   "outputs": [],
   "source": [
    "import bcrypt\n",
    "import hashlib"
   ]
  },
  {
   "cell_type": "markdown",
   "id": "4ed339a4",
   "metadata": {},
   "source": [
    "### 2.2. Functions"
   ]
  },
  {
   "cell_type": "markdown",
   "id": "ca2c45cb",
   "metadata": {},
   "source": [
    "#### User Creation"
   ]
  },
  {
   "cell_type": "markdown",
   "id": "ed573436",
   "metadata": {},
   "source": [
    "This function creates the original user: the one that is really stored in the system."
   ]
  },
  {
   "cell_type": "code",
   "execution_count": 2,
   "id": "466b4ca2",
   "metadata": {},
   "outputs": [],
   "source": [
    "# User Creation\n",
    "def userCreation():\n",
    "    user=[]\n",
    "    # Data input\n",
    "    print('### User Creation ')\n",
    "    # user input\n",
    "    usu=input('Input your user name: ')\n",
    "    user.append(usu)\n",
    "    # password input\n",
    "    password=input('Input your password: ')\n",
    "    user.append(password)\n",
    "    salt=bcrypt.gensalt(12)\n",
    "    hashKey=bcrypt.hashpw(password.encode(\"utf8\"), salt)\n",
    "    user.append(hashKey)\n",
    "    user.append(salt)\n",
    "    print('--- User Created')\n",
    "    return user"
   ]
  },
  {
   "cell_type": "markdown",
   "id": "cb2c6bd7",
   "metadata": {},
   "source": [
    "#### New Login"
   ]
  },
  {
   "cell_type": "markdown",
   "id": "c927ba10",
   "metadata": {},
   "source": [
    "This is the new user that want to be authenticate in the system."
   ]
  },
  {
   "cell_type": "code",
   "execution_count": 3,
   "id": "ac45a0e0",
   "metadata": {},
   "outputs": [],
   "source": [
    "# New Login\n",
    "def newLogin():\n",
    "    print('### New User Log ')\n",
    "    newUser=[]\n",
    "    # User\n",
    "    otherUsu=input('Input user name: ')\n",
    "    newUser.append(otherUsu)\n",
    "    # Password\n",
    "    otherKey=input('Input password: ')\n",
    "    newUser.append(otherKey)\n",
    "    print('--- Input of New Log Finished')\n",
    "    return newUser"
   ]
  },
  {
   "cell_type": "markdown",
   "id": "1f577d13",
   "metadata": {},
   "source": [
    "#### Verification"
   ]
  },
  {
   "cell_type": "markdown",
   "id": "1c264876",
   "metadata": {},
   "source": [
    "The info of the new user have to be compared with the info of the user stored."
   ]
  },
  {
   "cell_type": "code",
   "execution_count": 10,
   "id": "9e4861c0",
   "metadata": {},
   "outputs": [],
   "source": [
    "# Password Verification\n",
    "#\n",
    "def loginVerify(user,newUser):\n",
    "    print('### New User and password Verification ')\n",
    "    results=[]\n",
    "    usu=user[0]\n",
    "    usuPass=user[2]\n",
    "    newUsu=newUser[0]\n",
    "    newUsuPass=newUser[1]\n",
    "    if(usu==newUsu):\n",
    "        checkUsu=True\n",
    "    else:\n",
    "        checkUsu=False\n",
    "    results.append(checkUsu)\n",
    "    checkPass=bcrypt.checkpw(newUsuPass.encode(\"utf8\"), usuPass)\n",
    "    results.append(checkPass)\n",
    "    print('--- User & Pass Verified')\n",
    "    return results"
   ]
  },
  {
   "cell_type": "markdown",
   "id": "aa8774b9",
   "metadata": {},
   "source": [
    "### 2.3. Main program"
   ]
  },
  {
   "cell_type": "markdown",
   "id": "8fd4e7f7",
   "metadata": {},
   "source": [
    "First, user have to be created and stored. Then, data of the new log have to be input. Finally, after the comparisson of both logs, the definition have to be taken: accept or reject the the new log. Information of the result is presented.<br>\n",
    "In results, it is possible to see in the password: the salt + the hash of password and separatelly the salt."
   ]
  },
  {
   "cell_type": "code",
   "execution_count": 20,
   "id": "4b9369fb",
   "metadata": {},
   "outputs": [
    {
     "name": "stdout",
     "output_type": "stream",
     "text": [
      "### User and password Verification \n",
      "### User Creation \n",
      "Input your user name: jk\n",
      "Input your password: 123\n",
      "--- User Created\n",
      "### New User Log \n",
      "Input user name: jkl\n",
      "Input password: 123\n",
      "--- Input of New Log Finished\n",
      "### New User and password Verification \n",
      "--- User & Pass Verified\n",
      "User NOT verified:\n",
      "Stored: jk New Log: jkl\n",
      "Password verified:\n",
      "Password Stored: $2b$12$ExxRWqTtzh4kF7UVqiQE5OjuTYV6Obmxn5J.7muXg.bHP.FJM.NqW\n",
      "Salt Stored: $2b$12$ExxRWqTtzh4kF7UVqiQE5O\n",
      "Password Logged: $2b$12$DYYk0cUE90.lJGRw9H4.YOB5C845WiWiR/mGa4Yyl9LHrl94ncTe2\n",
      "New salt: $2b$12$DYYk0cUE90.lJGRw9H4.YO\n"
     ]
    }
   ],
   "source": [
    "# Main:\n",
    "print('### User and password Verification ')\n",
    "usu=userCreation()\n",
    "newUsu=newLogin()\n",
    "verification=loginVerify(usu,newUsu)\n",
    "usuVerify=verification[0]\n",
    "passVerify=verification[1]\n",
    "salt=bcrypt.gensalt(12)\n",
    "newLogPass=newUsu[1]\n",
    "newUsu.append(bcrypt.hashpw(newLogPass.encode(\"utf8\"), salt))\n",
    "if(usuVerify==True):\n",
    "    print('User verified: '+str(usu[0]))\n",
    "else:\n",
    "    print('User NOT verified:')\n",
    "    print('Stored: '+str(usu[0])+' New Log: '+str(newUsu[0]))\n",
    "if(passVerify==True):\n",
    "    print('Password verified:')\n",
    "    print('Password Stored: '+str(usu[2].decode(\"utf8\")))\n",
    "    print('Salt Stored: '+str(usu[3].decode(\"utf8\")))\n",
    "    print('Password Logged: '+str(newUsu[2].decode(\"utf8\")))\n",
    "    print('New salt: '+str(salt.decode(\"utf8\")))\n",
    "else:\n",
    "    print('Password NOT verified:')\n",
    "    print('Password Stored: '+str(usu[2].decode(\"utf8\")))\n",
    "    print('Salt Stored: '+str(usu[3].decode(\"utf8\")))\n",
    "    print('Password Logged: '+str(newUsu[2].decode(\"utf8\")))\n",
    "    print('New salt: '+str(salt.decode(\"utf8\")))"
   ]
  },
  {
   "cell_type": "markdown",
   "id": "8b6e13e1",
   "metadata": {},
   "source": [
    "If password is verified, in the log it is possible to see that with same password, different salt, different hash. Lets take a look what happen whit the same password and forcing the same salt."
   ]
  },
  {
   "cell_type": "code",
   "execution_count": 21,
   "id": "b19062df",
   "metadata": {},
   "outputs": [
    {
     "name": "stdout",
     "output_type": "stream",
     "text": [
      "### User and password Verification WITH SAME SALT\n",
      "### New User and password Verification \n",
      "--- User & Pass Verified\n",
      "User NOT verified:\n",
      "Stored: jk New Log: jkl\n",
      "Password verified:\n",
      "Password Stored: $2b$12$ExxRWqTtzh4kF7UVqiQE5OjuTYV6Obmxn5J.7muXg.bHP.FJM.NqW\n",
      "Salt Stored: $2b$12$ExxRWqTtzh4kF7UVqiQE5O\n",
      "Password Logged: $2b$12$ExxRWqTtzh4kF7UVqiQE5OjuTYV6Obmxn5J.7muXg.bHP.FJM.NqW\n",
      "New salt: $2b$12$ExxRWqTtzh4kF7UVqiQE5O\n"
     ]
    }
   ],
   "source": [
    "print('### User and password Verification WITH SAME SALT')\n",
    "verification=loginVerify(usu,newUsu)\n",
    "usuVerify=verification[0]\n",
    "passVerify=verification[1]\n",
    "salt=usu[3]\n",
    "newLogPass=newUsu[1]\n",
    "newUsu.append(bcrypt.hashpw(newLogPass.encode(\"utf8\"), salt))\n",
    "if(usuVerify==True):\n",
    "    print('User verified: '+str(usu[0]))\n",
    "else:\n",
    "    print('User NOT verified:')\n",
    "    print('Stored: '+str(usu[0])+' New Log: '+str(newUsu[0]))\n",
    "if(passVerify==True):\n",
    "    print('Password verified:')\n",
    "    print('Password Stored: '+str(usu[2].decode(\"utf8\")))\n",
    "    print('Salt Stored: '+str(usu[3].decode(\"utf8\")))\n",
    "    print('Password Logged: '+str(newUsu[3].decode(\"utf8\")))\n",
    "    print('New salt: '+str(salt.decode(\"utf8\")))\n",
    "else:\n",
    "    print('Password NOT verified:')\n",
    "    print('Password Stored: '+str(usu[2].decode(\"utf8\")))\n",
    "    print('Salt Stored: '+str(usu[3].decode(\"utf8\")))\n",
    "    print('Password Logged: '+str(newUsu[3].decode(\"utf8\")))\n",
    "    print('New salt: '+str(salt.decode(\"utf8\")))"
   ]
  },
  {
   "cell_type": "markdown",
   "id": "5cfd90f6",
   "metadata": {},
   "source": [
    "## Conclusions"
   ]
  },
  {
   "cell_type": "markdown",
   "id": "4eace27f",
   "metadata": {},
   "source": [
    "In the last lines we show how to present the same hashed password from the same password (that could be shown as a weakness). But this is very particular case (with didactic intentions) because we forced the use of the same salt, that normally is practically impossible.<br>\n",
    "We remarc that the mechanism of use of a salt is very effective: same passwords produces different hashes stored in DB. Bcrypt treat very well the use of salt in verification process. <br>\n",
    "Finally, the process results very fast.\n"
   ]
  }
 ],
 "metadata": {
  "kernelspec": {
   "display_name": "Python 3 (ipykernel)",
   "language": "python",
   "name": "python3"
  },
  "language_info": {
   "codemirror_mode": {
    "name": "ipython",
    "version": 3
   },
   "file_extension": ".py",
   "mimetype": "text/x-python",
   "name": "python",
   "nbconvert_exporter": "python",
   "pygments_lexer": "ipython3",
   "version": "3.9.7"
  }
 },
 "nbformat": 4,
 "nbformat_minor": 5
}
